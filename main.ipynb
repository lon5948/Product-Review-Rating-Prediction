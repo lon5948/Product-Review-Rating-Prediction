{
 "cells": [
  {
   "cell_type": "code",
   "execution_count": 2,
   "metadata": {},
   "outputs": [
    {
     "name": "stderr",
     "output_type": "stream",
     "text": [
      "/Users/lonli/.pyenv/versions/3.10.13/lib/python3.10/site-packages/tqdm/auto.py:21: TqdmWarning: IProgress not found. Please update jupyter and ipywidgets. See https://ipywidgets.readthedocs.io/en/stable/user_install.html\n",
      "  from .autonotebook import tqdm as notebook_tqdm\n"
     ]
    }
   ],
   "source": [
    "import torch\n",
    "import evaluate\n",
    "import numpy as np\n",
    "import pandas as pd\n",
    "\n",
    "\n",
    "from os.path import join\n",
    "from datasets import load_dataset\n",
    "\n",
    "from nltk.stem import WordNetLemmatizer\n",
    "import gensim.parsing.preprocessing as gensim_preprocessing\n",
    "import gensim.utils as gensim_utils\n",
    "\n",
    "from tqdm.notebook import tqdm\n",
    "from accelerate import Accelerator\n",
    "from torch.utils.data import DataLoader\n",
    "from transformers import BertTokenizer, AutoModelForSequenceClassification, TrainingArguments, Trainer, DataCollatorWithPadding"
   ]
  },
  {
   "cell_type": "code",
   "execution_count": 3,
   "metadata": {},
   "outputs": [
    {
     "data": {
      "text/plain": [
       "device(type='cpu')"
      ]
     },
     "execution_count": 3,
     "metadata": {},
     "output_type": "execute_result"
    }
   ],
   "source": [
    "device = torch.device(\"cuda\") if torch.cuda.is_available() else torch.device(\"cpu\")\n",
    "\n",
    "device"
   ]
  },
  {
   "cell_type": "markdown",
   "metadata": {},
   "source": [
    "### Preprocessing Training Data & Testing Data"
   ]
  },
  {
   "cell_type": "code",
   "execution_count": 4,
   "metadata": {},
   "outputs": [
    {
     "name": "stderr",
     "output_type": "stream",
     "text": [
      "Generating train split: 35000 examples [00:00, 287297.40 examples/s]\n",
      "Generating test split: 35000 examples [00:00, 133812.53 examples/s]\n"
     ]
    }
   ],
   "source": [
    "data_dir = \"data/\"\n",
    "\n",
    "train_data_files={\"train\": join(data_dir, \"train.json\")}\n",
    "train_dataset = load_dataset(\"json\", data_files=train_data_files)\n",
    "\n",
    "test_data_files={\"test\": join(data_dir, \"test.json\")}\n",
    "test_dataset = load_dataset(\"json\", data_files=test_data_files)"
   ]
  },
  {
   "cell_type": "code",
   "execution_count": 5,
   "metadata": {},
   "outputs": [],
   "source": [
    "def preprocess_text(text):\n",
    "    preprocs = [\n",
    "        gensim_preprocessing.strip_tags, \n",
    "        gensim_preprocessing.strip_punctuation,\n",
    "        gensim_preprocessing.strip_multiple_whitespaces,\n",
    "        gensim_preprocessing.strip_numeric,\n",
    "        gensim_preprocessing.remove_stopwords, \n",
    "        gensim_preprocessing.strip_short, \n",
    "    ]\n",
    "    text = gensim_utils.to_unicode(text.lower().strip())\n",
    "    for preproc in preprocs:\n",
    "        text = preproc(text)\n",
    "    return text\n",
    "\n",
    "def lemmatize(text):\n",
    "    wnl = WordNetLemmatizer()\n",
    "    return wnl.lemmatize(text)  "
   ]
  },
  {
   "cell_type": "code",
   "execution_count": 6,
   "metadata": {},
   "outputs": [],
   "source": [
    "def preprocess_train(b):\n",
    "    b['labels'] = [0.] * 5\n",
    "    b['labels'][int(b['rating'])-1] = 1\n",
    "    b['text'] = lemmatize(preprocess_text(b['text']))\n",
    "    return b\n",
    "\n",
    "def preprocess_test(b):\n",
    "    b['text'] = lemmatize(preprocess_text(b['text']))\n",
    "    return b"
   ]
  },
  {
   "cell_type": "code",
   "execution_count": 7,
   "metadata": {},
   "outputs": [
    {
     "name": "stderr",
     "output_type": "stream",
     "text": [
      "Map: 100%|██████████| 35000/35000 [00:02<00:00, 12491.59 examples/s]\n",
      "Map: 100%|██████████| 35000/35000 [00:01<00:00, 17694.79 examples/s]\n"
     ]
    }
   ],
   "source": [
    "train_dataset = train_dataset.map(preprocess_train)\n",
    "test_dataset = test_dataset.map(preprocess_test)"
   ]
  },
  {
   "cell_type": "markdown",
   "metadata": {},
   "source": [
    "### Tokenize"
   ]
  },
  {
   "cell_type": "code",
   "execution_count": 8,
   "metadata": {},
   "outputs": [
    {
     "name": "stderr",
     "output_type": "stream",
     "text": [
      "/Users/lonli/.pyenv/versions/3.10.13/lib/python3.10/site-packages/huggingface_hub/file_download.py:1132: FutureWarning: `resume_download` is deprecated and will be removed in version 1.0.0. Downloads always resume when possible. If you want to force a new download, use `force_download=True`.\n",
      "  warnings.warn(\n",
      "Map: 100%|██████████| 35000/35000 [00:12<00:00, 2839.80 examples/s]\n",
      "Map: 100%|██████████| 35000/35000 [00:11<00:00, 2965.68 examples/s]\n"
     ]
    }
   ],
   "source": [
    "model_name = \"bert-base-uncased\"\n",
    "tokenizer = BertTokenizer.from_pretrained(model_name)\n",
    "\n",
    "def combime_title_and_text(b):\n",
    "    s = f\"title:{b['title']}\\nreview:{b['text']}\"\n",
    "    result = tokenizer(s, padding=True, truncation=True, max_length=128)\n",
    "    return result\n",
    "\n",
    "\n",
    "tokenized_train_dataset = train_dataset.map(\n",
    "    combime_title_and_text,\n",
    "    remove_columns=[\"verified_purchase\", \"title\", \"text\", \"helpful_vote\", \"rating\"],\n",
    ")\n",
    "tokenized_test_dataset = test_dataset.map(\n",
    "    combime_title_and_text,\n",
    "    remove_columns=[\"verified_purchase\", \"title\", \"text\", \"helpful_vote\"],\n",
    ")"
   ]
  },
  {
   "cell_type": "code",
   "execution_count": 9,
   "metadata": {},
   "outputs": [],
   "source": [
    "new_train_dataset = tokenized_train_dataset[\"train\"].train_test_split(test_size=0.1, seed=17)"
   ]
  },
  {
   "cell_type": "markdown",
   "metadata": {},
   "source": [
    "### Metrics"
   ]
  },
  {
   "cell_type": "code",
   "execution_count": 10,
   "metadata": {},
   "outputs": [
    {
     "name": "stderr",
     "output_type": "stream",
     "text": [
      "Downloading builder script: 100%|██████████| 4.20k/4.20k [00:00<00:00, 8.72MB/s]\n",
      "Downloading builder script: 100%|██████████| 6.77k/6.77k [00:00<00:00, 9.29MB/s]\n",
      "Downloading builder script: 100%|██████████| 7.55k/7.55k [00:00<00:00, 14.6MB/s]\n",
      "Downloading builder script: 100%|██████████| 7.36k/7.36k [00:00<00:00, 7.25MB/s]\n"
     ]
    }
   ],
   "source": [
    "metrics = evaluate.combine([\"accuracy\", \"f1\", \"precision\", \"recall\"])\n",
    "\n",
    "def sigmoid(x):\n",
    "   return 1 / (1 + np.exp(-x))\n",
    "\n",
    "def compute_metrics(eval_pred):\n",
    "   predictions, labels = eval_pred\n",
    "   predictions = sigmoid(predictions)\n",
    "   predictions = (predictions > 0.5).astype(int).reshape(-1)\n",
    "   return metrics.compute(predictions=predictions, references=labels.astype(int).reshape(-1))"
   ]
  },
  {
   "cell_type": "code",
   "execution_count": null,
   "metadata": {},
   "outputs": [],
   "source": [
    "model = AutoModelForSequenceClassification.from_pretrained(model_name, num_labels=5)\n",
    "\n",
    "batch_size = 32\n",
    "data_collator = DataCollatorWithPadding(tokenizer=tokenizer)\n",
    "training_args = TrainingArguments(\n",
    "    output_dir=\"output\",\n",
    "    overwrite_output_dir=True,\n",
    "    learning_rate=3e-5,\n",
    "    weight_decay=0.01,\n",
    "    num_train_epochs=5,\n",
    "    per_device_train_batch_size=batch_size,\n",
    "    per_device_eval_batch_size=batch_size,\n",
    "    evaluation_strategy=\"epoch\",\n",
    "    save_strategy=\"epoch\",\n",
    "    load_best_model_at_end=True,\n",
    "    fp16=True,\n",
    ")\n",
    "\n",
    "trainer = Trainer(\n",
    "    model=model,\n",
    "    args=training_args,\n",
    "    train_dataset=new_train_dataset['train'],\n",
    "    eval_dataset=new_train_dataset['test'],\n",
    "    tokenizer=tokenizer,\n",
    "    data_collator=data_collator,\n",
    "    compute_metrics=compute_metrics,\n",
    ")\n",
    "accelerator = Accelerator()\n",
    "trainer = accelerator.prepare(trainer)\n",
    "trainer.train()\n",
    "trainer.save_model(\"chekpoints/checkpoint-240512-001\")"
   ]
  },
  {
   "cell_type": "code",
   "execution_count": null,
   "metadata": {},
   "outputs": [],
   "source": [
    "data_collator = DataCollatorWithPadding(tokenizer=tokenizer)\n",
    "eval_dataloader = DataLoader(\n",
    "    tokenized_test_dataset[\"test\"], batch_size=32, collate_fn=data_collator\n",
    ")\n",
    "\n",
    "checkpoint = \"chekpoints/checkpoint-240512-001\"\n",
    "model = AutoModelForSequenceClassification.from_pretrained(checkpoint, num_labels=5)\n",
    "\n",
    "predictions = []\n",
    "\n",
    "model.to(device)\n",
    "model.eval()\n",
    "for batch in tqdm(eval_dataloader):\n",
    "    with torch.no_grad():\n",
    "        batch = batch.to(device)\n",
    "        outputs = model(**batch)\n",
    "        prediction = outputs.logits.argmax(dim=1).tolist()\n",
    "        predictions.extend([pred+1 for pred in prediction])\n",
    "\n",
    "index = [f\"index_{i}\" for i in range(tokenized_test_dataset[\"test\"].num_rows)]\n",
    "\n",
    "results = pd.DataFrame({\"index\": index, \"rating\": predictions})\n",
    "results.to_csv(f\"submission.csv\", index=False)"
   ]
  }
 ],
 "metadata": {
  "kernelspec": {
   "display_name": "Python 3",
   "language": "python",
   "name": "python3"
  },
  "language_info": {
   "codemirror_mode": {
    "name": "ipython",
    "version": 3
   },
   "file_extension": ".py",
   "mimetype": "text/x-python",
   "name": "python",
   "nbconvert_exporter": "python",
   "pygments_lexer": "ipython3",
   "version": "3.10.13"
  },
  "orig_nbformat": 4
 },
 "nbformat": 4,
 "nbformat_minor": 2
}
